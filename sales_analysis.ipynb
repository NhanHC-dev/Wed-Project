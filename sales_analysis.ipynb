{
 "cells": [
  {
   "cell_type": "markdown",
   "id": "bafef58a",
   "metadata": {},
   "source": [
    "# Sales Data Analysis\n",
    "\n",
    "This notebook performs the following tasks:\n",
    "\n",
    "1. Analyze revenue by category and time.\n",
    "2. Identify key customers.\n",
    "3. Segment customers.\n",
    "4. Visualize trends in sales and customer behavior."
   ]
  },
  {
   "cell_type": "code",
   "execution_count": null,
   "id": "cc91436b",
   "metadata": {},
   "outputs": [],
   "source": [
    "import pandas as pd\n",
    "import matplotlib.pyplot as plt\n",
    "\n",
    "# Load dataset\n",
    "file_path = 'big_data_sales_dataset.csv'\n",
    "df = pd.read_csv(file_path)\n",
    "\n",
    "# Preview the data\n",
    "df.head()"
   ]
  },
  {
   "cell_type": "code",
   "execution_count": null,
   "id": "bc18ba18",
   "metadata": {},
   "outputs": [],
   "source": [
    "# Convert order_date to datetime and extract month\n",
    "df['order_date'] = pd.to_datetime(df['order_date'])\n",
    "df['month'] = df['order_date'].dt.to_period('M')\n",
    "\n",
    "# Analyze revenue by category\n",
    "category_sales = df.groupby('category')['total_price'].sum().sort_values(ascending=False)\n",
    "category_sales"
   ]
  },
  {
   "cell_type": "code",
   "execution_count": null,
   "id": "eeb3a732",
   "metadata": {},
   "outputs": [],
   "source": [
    "# Plot top categories by revenue\n",
    "plt.figure(figsize=(10, 6))\n",
    "category_sales.plot(kind='bar', color='skyblue')\n",
    "plt.title('Top Categories by Revenue')\n",
    "plt.xlabel('Category')\n",
    "plt.ylabel('Total Revenue')\n",
    "plt.xticks(rotation=45)\n",
    "plt.show()"
   ]
  },
  {
   "cell_type": "code",
   "execution_count": null,
   "id": "4e1a068d",
   "metadata": {},
   "outputs": [],
   "source": [
    "# Analyze monthly sales\n",
    "monthly_sales = df.groupby('month')['total_price'].sum()\n",
    "monthly_sales"
   ]
  },
  {
   "cell_type": "code",
   "execution_count": null,
   "id": "26353fd8",
   "metadata": {},
   "outputs": [],
   "source": [
    "# Plot monthly sales trend\n",
    "plt.figure(figsize=(10, 6))\n",
    "monthly_sales.plot(kind='line', marker='o', color='orange')\n",
    "plt.title('Monthly Sales Trend')\n",
    "plt.xlabel('Month')\n",
    "plt.ylabel('Total Revenue')\n",
    "plt.xticks(rotation=45)\n",
    "plt.show()"
   ]
  },
  {
   "cell_type": "code",
   "execution_count": null,
   "id": "d974fb3e",
   "metadata": {},
   "outputs": [],
   "source": [
    "# Identify key customers\n",
    "top_customers = df.groupby('customer_id')['total_price'].sum().sort_values(ascending=False).head(10)\n",
    "top_customers"
   ]
  },
  {
   "cell_type": "code",
   "execution_count": null,
   "id": "782b7ae7",
   "metadata": {},
   "outputs": [],
   "source": [
    "# Customer segmentation\n",
    "customer_segmentation = df.groupby('customer_id').agg({\n",
    "    'total_price': 'sum',\n",
    "    'order_id': 'count'\n",
    "}).rename(columns={'total_price': 'Total Revenue', 'order_id': 'Total Orders'})\n",
    "customer_segmentation['AOV'] = customer_segmentation['Total Revenue'] / customer_segmentation['Total Orders']\n",
    "customer_segmentation.sort_values(by='Total Revenue', ascending=False).head(10)"
   ]
  },
  {
   "cell_type": "code",
   "execution_count": null,
   "id": "027866a0",
   "metadata": {},
   "outputs": [],
   "source": [
    "# Visualize customer segmentation\n",
    "plt.figure(figsize=(10, 6))\n",
    "plt.scatter(customer_segmentation['Total Orders'], customer_segmentation['Total Revenue'], alpha=0.5)\n",
    "plt.title('Customer Segmentation: Orders vs Revenue')\n",
    "plt.xlabel('Total Orders')\n",
    "plt.ylabel('Total Revenue')\n",
    "plt.grid()\n",
    "plt.show()"
   ]
  }
 ],
 "metadata": {},
 "nbformat": 4,
 "nbformat_minor": 5
}